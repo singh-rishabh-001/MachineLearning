{
 "cells": [
  {
   "cell_type": "code",
   "execution_count": 1,
   "id": "ef593172-4ee9-47b4-9db2-66481ccbf1ba",
   "metadata": {},
   "outputs": [],
   "source": [
    "# for code formatter\n",
    "\n",
    "# pip install black\n",
    "# pip install nb_black\n",
    "\n",
    "%load_ext lab_black"
   ]
  },
  {
   "cell_type": "code",
   "execution_count": 2,
   "id": "b767202d-8130-41d1-9001-5f5436c9704b",
   "metadata": {},
   "outputs": [],
   "source": [
    "import numpy as np"
   ]
  },
  {
   "cell_type": "markdown",
   "id": "1ed1eb81-1de7-4cfd-96e9-b192fee56ce3",
   "metadata": {},
   "source": [
    "- Que : Given a running stream of numbers, compute mean and variance at given point"
   ]
  },
  {
   "cell_type": "code",
   "execution_count": 3,
   "id": "fedbf8ab-5e87-49b9-83ba-d0ebfc16ee95",
   "metadata": {},
   "outputs": [],
   "source": [
    "# mean is simple\n",
    "# Expected value of x E(x) m = sum/n\n",
    "\n",
    "# derive the formula of standard deviation we got\n",
    "\n",
    "# vari = E(x^2) - E(x)^2"
   ]
  }
 ],
 "metadata": {
  "kernelspec": {
   "display_name": "Python 3 (ipykernel)",
   "language": "python",
   "name": "python3"
  },
  "language_info": {
   "codemirror_mode": {
    "name": "ipython",
    "version": 3
   },
   "file_extension": ".py",
   "mimetype": "text/x-python",
   "name": "python",
   "nbconvert_exporter": "python",
   "pygments_lexer": "ipython3",
   "version": "3.9.6"
  }
 },
 "nbformat": 4,
 "nbformat_minor": 5
}
