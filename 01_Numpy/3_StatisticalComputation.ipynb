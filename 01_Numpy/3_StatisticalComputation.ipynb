{
 "cells": [
  {
   "cell_type": "code",
   "execution_count": 1,
   "id": "ac0e9e61-f550-402a-93c7-d60919b10486",
   "metadata": {},
   "outputs": [],
   "source": [
    "# for code formatter\n",
    "\n",
    "# pip install black\n",
    "# pip install nb_black\n",
    "\n",
    "%load_ext lab_black"
   ]
  },
  {
   "cell_type": "code",
   "execution_count": 2,
   "id": "8ddf9946-6b85-471d-8cab-4c133353e4c2",
   "metadata": {},
   "outputs": [],
   "source": [
    "import numpy as np"
   ]
  },
  {
   "cell_type": "markdown",
   "id": "5924bbaa-a8f3-44c1-90e6-e4a60c2452c3",
   "metadata": {},
   "source": [
    "# Statistical Computation\n",
    "- min,max\n",
    "- mean\n",
    "- median\n",
    "- average\n",
    "- variance\n",
    "- standard deviation"
   ]
  },
  {
   "cell_type": "code",
   "execution_count": 3,
   "id": "2941a53c-8e65-49b7-94c5-0473f12fdd1a",
   "metadata": {},
   "outputs": [
    {
     "name": "stdout",
     "output_type": "stream",
     "text": [
      "[[1 2 3 4]\n",
      " [5 6 7 8]]\n"
     ]
    }
   ],
   "source": [
    "a = np.array([[1, 2, 3, 4], [5, 6, 7, 8]])\n",
    "print(a)"
   ]
  },
  {
   "cell_type": "code",
   "execution_count": 4,
   "id": "c6c55249-b6c4-414d-b5cd-e12e99307583",
   "metadata": {},
   "outputs": [
    {
     "name": "stdout",
     "output_type": "stream",
     "text": [
      "1\n",
      "[1 2 3 4]\n",
      "[1 5]\n"
     ]
    }
   ],
   "source": [
    "# min element\n",
    "print(np.min(a))\n",
    "\n",
    "# min element along the axis (multidimensional )\n",
    "print(np.min(a, axis=0))\n",
    "\n",
    "print(np.min(a, axis=1))"
   ]
  },
  {
   "cell_type": "code",
   "execution_count": 5,
   "id": "e0ca5ca5-5e34-4c3c-b884-7afb3b610956",
   "metadata": {},
   "outputs": [
    {
     "name": "stdout",
     "output_type": "stream",
     "text": [
      "3.0\n",
      "3.0\n",
      "[3. 4. 5. 6.]\n",
      "[2.5 6.5]\n"
     ]
    }
   ],
   "source": [
    "# mean or average of the all elements\n",
    "b = np.array([1, 2, 3, 4, 5])\n",
    "\n",
    "m = sum(b) / len(b)\n",
    "print(m)\n",
    "\n",
    "print(np.mean(b))\n",
    "print(np.mean(a, axis=0))\n",
    "print(np.mean(a, axis=1))"
   ]
  },
  {
   "cell_type": "code",
   "execution_count": 6,
   "id": "d9cfe5eb-43a0-40e7-b046-a960f0165be7",
   "metadata": {},
   "outputs": [
    {
     "name": "stdout",
     "output_type": "stream",
     "text": [
      "[[1 2 3 4]\n",
      " [5 6 7 8]]\n",
      "4.5\n"
     ]
    }
   ],
   "source": [
    "# MEDIAN\n",
    "print(a)\n",
    "print(np.median(a))"
   ]
  },
  {
   "cell_type": "code",
   "execution_count": 7,
   "id": "343fde70-ffcb-4e8d-bc92-a0ce2076346e",
   "metadata": {},
   "outputs": [
    {
     "name": "stdout",
     "output_type": "stream",
     "text": [
      "2.4\n",
      "2.066666666666667\n"
     ]
    }
   ],
   "source": [
    "# MEAN VS AVERAGE\n",
    "c = np.array([1, 5, 4, 2, 0])\n",
    "\n",
    "print(np.mean(c))\n",
    "\n",
    "# average is weighted\n",
    "wts = np.array([1, 2, 3, 4, 5])\n",
    "print(np.average(c, weights=wts))"
   ]
  },
  {
   "cell_type": "code",
   "execution_count": 8,
   "id": "ea159504-a760-4018-b71b-74845743422e",
   "metadata": {},
   "outputs": [
    {
     "name": "stdout",
     "output_type": "stream",
     "text": [
      "1.854723699099141\n",
      "1.854723699099141\n"
     ]
    }
   ],
   "source": [
    "# STANDARD DEVIATION (sigma)\n",
    "# sd = root(summation(sqare of (x-xi)) divide by N)\n",
    "\n",
    "# own func\n",
    "mean = np.mean(c)\n",
    "mystd = np.sqrt(np.mean(abs(c - mean) ** 2))\n",
    "print(mystd)\n",
    "\n",
    "\n",
    "# inbuilt function\n",
    "print(np.std(c))"
   ]
  },
  {
   "cell_type": "code",
   "execution_count": 9,
   "id": "c216fd70-0afa-4294-bc0e-ccd8ea423b38",
   "metadata": {},
   "outputs": [
    {
     "name": "stdout",
     "output_type": "stream",
     "text": [
      "3.440000000000001\n",
      "3.4400000000000004\n"
     ]
    }
   ],
   "source": [
    "# VARIANCE\n",
    "\n",
    "print(mystd ** 2)\n",
    "\n",
    "print(np.var(c))"
   ]
  }
 ],
 "metadata": {
  "kernelspec": {
   "display_name": "Python 3 (ipykernel)",
   "language": "python",
   "name": "python3"
  },
  "language_info": {
   "codemirror_mode": {
    "name": "ipython",
    "version": 3
   },
   "file_extension": ".py",
   "mimetype": "text/x-python",
   "name": "python",
   "nbconvert_exporter": "python",
   "pygments_lexer": "ipython3",
   "version": "3.9.6"
  }
 },
 "nbformat": 4,
 "nbformat_minor": 5
}
