{
 "cells": [
  {
   "cell_type": "code",
   "execution_count": 1,
   "id": "d285e7a1-7b1e-4896-9bdc-04ae23fc1872",
   "metadata": {},
   "outputs": [],
   "source": [
    "# for code formatter\n",
    "\n",
    "# pip install black\n",
    "# pip install nb_black\n",
    "\n",
    "%load_ext lab_black"
   ]
  },
  {
   "cell_type": "code",
   "execution_count": 2,
   "id": "731b5c07-1a1f-4202-8140-44d1b5102183",
   "metadata": {},
   "outputs": [],
   "source": [
    "import numpy as np"
   ]
  },
  {
   "cell_type": "markdown",
   "id": "5c2d4c49-baa2-4e7d-a822-27c3b86145cb",
   "metadata": {},
   "source": [
    "# Numpy Random Module"
   ]
  },
  {
   "cell_type": "code",
   "execution_count": 5,
   "id": "34ccf9ac-6901-4717-893a-f8983ed6545d",
   "metadata": {},
   "outputs": [
    {
     "name": "stdout",
     "output_type": "stream",
     "text": [
      "[ 5  6  7  8  9 10 11 12 13 14]\n"
     ]
    }
   ],
   "source": [
    "# generate array in given range\n",
    "\n",
    "a = np.arange(10) + 5  # indexing\n",
    "print(a)"
   ]
  },
  {
   "cell_type": "code",
   "execution_count": 87,
   "id": "862d188b-52e4-42b5-86e2-55abe1226fd6",
   "metadata": {},
   "outputs": [],
   "source": [
    "# if we want that the elements in random are generated in the same order then we can apply seed\n",
    "\n",
    "np.random.seed(1)"
   ]
  },
  {
   "cell_type": "code",
   "execution_count": 88,
   "id": "e4074200-e210-4aae-a357-01af9e41b814",
   "metadata": {},
   "outputs": [
    {
     "name": "stdout",
     "output_type": "stream",
     "text": [
      "[6 9 6]\n"
     ]
    }
   ],
   "source": [
    "# shuffle the elements of an array\n",
    "np.random.shuffle(a)\n",
    "print(a)"
   ]
  },
  {
   "cell_type": "code",
   "execution_count": 15,
   "id": "4242da99-f62b-4c5f-93a8-3f425abe26d0",
   "metadata": {},
   "outputs": [
    {
     "name": "stdout",
     "output_type": "stream",
     "text": [
      "[[0.75467492 0.28372459 0.11082061]\n",
      " [0.1142992  0.04840652 0.77559757]]\n"
     ]
    }
   ],
   "source": [
    "# array of random numbers\n",
    "a = np.random.rand(2, 3)\n",
    "print(a)"
   ]
  },
  {
   "cell_type": "code",
   "execution_count": 14,
   "id": "1fb0eea7-a784-4f26-b9f5-6758f747bc88",
   "metadata": {},
   "outputs": [
    {
     "name": "stdout",
     "output_type": "stream",
     "text": [
      "[[-0.23393703  2.16256583 -1.0416869 ]\n",
      " [ 1.22035869 -1.5125051  -2.20745018]]\n"
     ]
    }
   ],
   "source": [
    "# returns values from standard normal distribution\n",
    "a = np.random.randn(2, 3)\n",
    "print(a)"
   ]
  },
  {
   "cell_type": "code",
   "execution_count": 74,
   "id": "df1fee64-98f7-47c9-b69d-1b55c1384661",
   "metadata": {},
   "outputs": [
    {
     "name": "stdout",
     "output_type": "stream",
     "text": [
      "[6 6 9]\n"
     ]
    }
   ],
   "source": [
    "# pick three random elements in range [5,10)\n",
    "a = np.random.randint(5, 10, 3)\n",
    "print(a)"
   ]
  },
  {
   "cell_type": "code",
   "execution_count": 86,
   "id": "a164fada-7b50-405b-80e9-2e834c42a2de",
   "metadata": {},
   "outputs": [
    {
     "name": "stdout",
     "output_type": "stream",
     "text": [
      "4\n"
     ]
    }
   ],
   "source": [
    "# randomly pick one element from the array\n",
    "element = np.random.choice([1, 2, 4, 23, 34, 352, 3, 2])\n",
    "print(element)"
   ]
  },
  {
   "cell_type": "code",
   "execution_count": null,
   "id": "1bbc2e24-f7b8-4c7c-833a-8a78f3f32c47",
   "metadata": {},
   "outputs": [],
   "source": []
  }
 ],
 "metadata": {
  "kernelspec": {
   "display_name": "Python 3 (ipykernel)",
   "language": "python",
   "name": "python3"
  },
  "language_info": {
   "codemirror_mode": {
    "name": "ipython",
    "version": 3
   },
   "file_extension": ".py",
   "mimetype": "text/x-python",
   "name": "python",
   "nbconvert_exporter": "python",
   "pygments_lexer": "ipython3",
   "version": "3.9.6"
  }
 },
 "nbformat": 4,
 "nbformat_minor": 5
}
